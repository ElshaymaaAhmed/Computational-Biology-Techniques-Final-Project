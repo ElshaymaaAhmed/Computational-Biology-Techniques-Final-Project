{
 "cells": [
  {
   "cell_type": "code",
   "execution_count": 11,
   "id": "7072ea01",
   "metadata": {},
   "outputs": [
    {
     "name": "stdout",
     "output_type": "stream",
     "text": [
      "Collecting pyopenms\n",
      "  Downloading pyopenms-2.7.0-cp38-cp38-win_amd64.whl (29.7 MB)\n",
      "Requirement already satisfied: numpy in c:\\users\\microsoft\\anaconda3\\lib\\site-packages (from pyopenms) (1.20.1)\n",
      "Installing collected packages: pyopenms\n",
      "Successfully installed pyopenms-2.7.0\n",
      "Requirement already satisfied: numpy in c:\\users\\microsoft\\anaconda3\\lib\\site-packages (1.20.1)\n"
     ]
    }
   ],
   "source": [
    "!pip3 install pyopenms\n",
    "!pip3 install numpy"
   ]
  },
  {
   "cell_type": "code",
   "execution_count": 1,
   "id": "24eb63a6",
   "metadata": {},
   "outputs": [],
   "source": [
    "import pyopenms\n",
    "from pyopenms import *"
   ]
  },
  {
   "cell_type": "code",
   "execution_count": 2,
   "id": "7dd5905e",
   "metadata": {},
   "outputs": [],
   "source": [
    "exp = MSExperiment()\n",
    "MzMLFile().load(\"C:/Users/Microsoft/Desktop/Fusion_180220_10.mzML\", exp)\n",
    "\n",
    "spectra = exp.getSpectra()"
   ]
  },
  {
   "cell_type": "code",
   "execution_count": 20,
   "id": "7f4352ed",
   "metadata": {},
   "outputs": [
    {
     "name": "stdout",
     "output_type": "stream",
     "text": [
      "<pyopenms.pyopenms_5.MSSpectrum object at 0x0000017440716690>\n"
     ]
    }
   ],
   "source": [
    "observed_spectrum = spectra[2]\n",
    "print(observed_spectrum)"
   ]
  },
  {
   "cell_type": "markdown",
   "id": "69cddcf8",
   "metadata": {},
   "source": [
    "## Proteolytic Digestion with Trypsin"
   ]
  },
  {
   "cell_type": "code",
   "execution_count": 21,
   "id": "383e0da9",
   "metadata": {},
   "outputs": [
    {
     "data": {
      "text/plain": [
       "333650"
      ]
     },
     "execution_count": 21,
     "metadata": {},
     "output_type": "execute_result"
    }
   ],
   "source": [
    "dig = ProteaseDigestion()\n",
    "dig.getEnzymeName() \n",
    "\n",
    "bsa = \"\".join([l.strip() for l in open(\"Scerevisiae_UPS2_1802.fasta\").readlines() if l.startswith('>') == False])\n",
    "\n",
    "bsa = AASequence.fromString(bsa)\n",
    "result = []\n",
    "dig.digest(bsa, result)\n",
    "len(result) "
   ]
  },
  {
   "cell_type": "code",
   "execution_count": 22,
   "id": "1220fb14",
   "metadata": {},
   "outputs": [
    {
     "name": "stdout",
     "output_type": "stream",
     "text": [
      "EDMSR\n"
     ]
    }
   ],
   "source": [
    "print(result[2].toString())"
   ]
  },
  {
   "cell_type": "markdown",
   "id": "18575df8",
   "metadata": {},
   "source": [
    "## Now we generate the theoretical spectrum of that peptide: "
   ]
  },
  {
   "cell_type": "code",
   "execution_count": 23,
   "id": "9ae26d26",
   "metadata": {},
   "outputs": [],
   "source": [
    "tsg = TheoreticalSpectrumGenerator()\n",
    "theo_spectrum = MSSpectrum()\n",
    "p = tsg.getParameters()\n",
    "p.setValue(\"add_y_ions\", \"true\")\n",
    "p.setValue(\"add_b_ions\", \"true\")              \n",
    "p.setValue(\"add_metainfo\", \"true\")                          \n",
    "tsg.setParameters(p)   \n",
    "\n",
    "peptide = result[2]\n",
    "tsg.getSpectrum(theo_spectrum, peptide, 1, 2)"
   ]
  },
  {
   "cell_type": "markdown",
   "id": "d44d1b69",
   "metadata": {},
   "source": [
    "## Now we can plot the observed and theoretical spectrum as a mirror plot:\n"
   ]
  },
  {
   "cell_type": "code",
   "execution_count": 24,
   "id": "645dcb8b",
   "metadata": {},
   "outputs": [
    {
     "name": "stdout",
     "output_type": "stream",
     "text": [
      "376.2242264214469\n",
      "1494.9309504538744\n"
     ]
    },
    {
     "data": {
      "image/png": "[encoded data removed]",
      "text/plain": [
       "<Figure size 864x576 with 1 Axes>"
      ]
     },
     "metadata": {
      "needs_background": "light"
     },
     "output_type": "display_data"
    }
   ],
   "source": [
    "import numpy as np\n",
    "from matplotlib import pyplot as plt\n",
    "\n",
    "def mirror_plot(obs_mz, obs_int, theo_mz, theo_int, title):\n",
    "  \n",
    "    obs_int = [element / max(obs_int) for element in obs_int] \n",
    "    theo_int = [element * -1 for element in theo_int]\n",
    "    plt.figure(figsize=(12,8))\n",
    "    plt.bar(obs_mz, obs_int, width = 3.0)\n",
    "    plt.bar(theo_mz, theo_int, width = 3.0)\n",
    "    plt.title(title)\n",
    "    plt.ylabel('intensity')\n",
    "    plt.xlabel('m/z')\n",
    "\n",
    "obs_mz, obs_int = observed_spectrum.get_peaks()\n",
    "\n",
    "print(min(obs_mz)) \n",
    "print(max(obs_mz)) \n",
    "\n",
    "theo_mz, theo_int = [], []\n",
    "for mz, intensity in zip(*theo_spectrum.get_peaks()):\n",
    "    if mz >= 200.0 and mz <= 800.0:\n",
    "        theo_mz.append(mz)\n",
    "        theo_int.append(intensity)\n",
    "\n",
    "title = 'Observed vs theoretical spectrum'\n",
    "mirror_plot(obs_mz, obs_int, theo_mz, theo_int, title)"
   ]
  },
  {
   "cell_type": "markdown",
   "id": "126b78e0",
   "metadata": {},
   "source": [
    "## Now we want to find matching peaks between observed and theoretical spectrum. "
   ]
  },
  {
   "cell_type": "code",
   "execution_count": 25,
   "id": "58f6788a",
   "metadata": {},
   "outputs": [],
   "source": [
    "alignment = []\n",
    "spa = SpectrumAlignment()\n",
    "p = spa.getParameters()\n",
    "p.setValue(\"tolerance\", 0.5)\n",
    "p.setValue(\"is_relative_tolerance\", \"false\")\n",
    "spa.setParameters(p)\n",
    "spa.getSpectrumAlignment(alignment, theo_spectrum, observed_spectrum)"
   ]
  },
  {
   "cell_type": "markdown",
   "id": "991f0a9c",
   "metadata": {},
   "source": [
    "## The alignment contains a list of matched peak indices. We can simply inspect matching peaks with: "
   ]
  },
  {
   "cell_type": "code",
   "execution_count": 26,
   "id": "4c2a8b83",
   "metadata": {},
   "outputs": [
    {
     "name": "stdout",
     "output_type": "stream",
     "text": [
      "Number of matched peaks: 4\n",
      "ion\ttheo. m/z\tobserved m/z\n",
      "b3+\t1\t376.117299866671\t376.2242264214469\n",
      "y3+\t1\t393.191467089971\t393.28380900908377\n",
      "b4+\t1\t463.14932902617096\t463.1492786990006\n",
      "y4+\t1\t508.218411249471\t508.218329645258\n"
     ]
    }
   ],
   "source": [
    "print(\"Number of matched peaks: \" + str(len(alignment)))\n",
    "print(\"ion\\ttheo. m/z\\tobserved m/z\")\n",
    "\n",
    "for theo_idx, obs_idx in alignment:\n",
    "    ion_name = theo_spectrum.getStringDataArrays()[0][theo_idx].decode()\n",
    "    ion_charge = theo_spectrum.getIntegerDataArrays()[0][theo_idx]\n",
    "    print(ion_name + \"\\t\" + str(ion_charge) + \"\\t\"\n",
    "      + str(theo_spectrum[theo_idx].getMZ())\n",
    "      + \"\\t\" + str(observed_spectrum[obs_idx].getMZ()))"
   ]
  },
  {
   "cell_type": "markdown",
   "id": "6b21f7d6",
   "metadata": {},
   "source": [
    "## The mirror plot can also be used to visualize the aligned spectrum: "
   ]
  },
  {
   "cell_type": "code",
   "execution_count": 27,
   "id": "bffc6cf2",
   "metadata": {},
   "outputs": [
    {
     "data": {
      "image/png": "[encoded data removed]",
      "text/plain": [
       "<Figure size 864x576 with 1 Axes>"
      ]
     },
     "metadata": {
      "needs_background": "light"
     },
     "output_type": "display_data"
    }
   ],
   "source": [
    "theo_mz, theo_int, obs_mz, obs_int = [], [], [], []\n",
    "for theo_idx, obs_idx in alignment:\n",
    "    theo_mz.append(theo_spectrum[theo_idx].getMZ())\n",
    "    theo_int.append(theo_spectrum[theo_idx].getIntensity())\n",
    "    obs_mz.append(observed_spectrum[obs_idx].getMZ())\n",
    "    obs_int.append(observed_spectrum[obs_idx].getIntensity())\n",
    "\n",
    "title = 'Observed vs theoretical spectrum (aligned)'\n",
    "mirror_plot(obs_mz, obs_int, theo_mz, theo_int, title)"
   ]
  },
  {
   "cell_type": "code",
   "execution_count": null,
   "id": "2d7f6900",
   "metadata": {},
   "outputs": [],
   "source": []
  }
 ],
 "metadata": {
  "kernelspec": {
   "display_name": "Python 3",
   "language": "python",
   "name": "python3"
  },
  "language_info": {
   "codemirror_mode": {
    "name": "ipython",
    "version": 3
   },
   "file_extension": ".py",
   "mimetype": "text/x-python",
   "name": "python",
   "nbconvert_exporter": "python",
   "pygments_lexer": "ipython3",
   "version": "3.8.8"
  }
 },
 "nbformat": 4,
 "nbformat_minor": 5
}
