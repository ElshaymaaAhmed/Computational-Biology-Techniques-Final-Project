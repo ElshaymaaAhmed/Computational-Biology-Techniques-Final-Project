{
 "cells": [
  {
   "cell_type": "code",
   "execution_count": 1,
   "id": "24eb63a6",
   "metadata": {},
   "outputs": [],
   "source": [
    "import pyopenms\n",
    "from pyopenms import *"
   ]
  },
  {
   "cell_type": "code",
   "execution_count": 2,
   "id": "7dd5905e",
   "metadata": {},
   "outputs": [],
   "source": [
    "exp = MSExperiment()\n",
    "# Load mzML file\n",
    "MzMLFile().load(\"F:/FCI/Senior/1st Semester/Computational Biology Techniches/Project/Raw/Fusion_180220_07.mzML\", exp)\n",
    "\n",
    "spectra = exp.getSpectra()"
   ]
  },
  {
   "cell_type": "code",
   "execution_count": 53,
   "id": "7f4352ed",
   "metadata": {},
   "outputs": [
    {
     "name": "stdout",
     "output_type": "stream",
     "text": [
      "<pyopenms.pyopenms_5.MSSpectrum object at 0x00000238307F47F0>\n"
     ]
    }
   ],
   "source": [
    "# Get the spectrum number 10 (index number 9)\n",
    "\n",
    "observed_spectrum = spectra[9]\n",
    "print(observed_spectrum)"
   ]
  },
  {
   "cell_type": "markdown",
   "id": "69cddcf8",
   "metadata": {},
   "source": [
    "## Proteolytic Digestion with Trypsin"
   ]
  },
  {
   "cell_type": "code",
   "execution_count": 4,
   "id": "383e0da9",
   "metadata": {},
   "outputs": [
    {
     "data": {
      "text/plain": [
       "333650"
      ]
     },
     "execution_count": 4,
     "metadata": {},
     "output_type": "execute_result"
    }
   ],
   "source": [
    "dig = ProteaseDigestion()\n",
    "dig.getEnzymeName() # Trypsin\n",
    "\n",
    "# Read all Fasta File Records \n",
    "bsa = \"\".join([l.strip() for l in open(\"Scerevisiae_UPS2_1802.fasta\").readlines() if l.startswith('>') == False])\n",
    "\n",
    "# Converet to amino acid\n",
    "bsa = AASequence.fromString(bsa)\n",
    "\n",
    "# create all digestion products\n",
    "result = []\n",
    "dig.digest(bsa, result)\n",
    "len(result) # 333650 peptides"
   ]
  },
  {
   "cell_type": "code",
   "execution_count": 54,
   "id": "1220fb14",
   "metadata": {},
   "outputs": [
    {
     "name": "stdout",
     "output_type": "stream",
     "text": [
      "DISYMLSQQADAVQVGTAFLGCSESNASK\n"
     ]
    }
   ],
   "source": [
    "# the peptide used\n",
    "print(result[30].toString())"
   ]
  },
  {
   "cell_type": "markdown",
   "id": "18575df8",
   "metadata": {},
   "source": [
    "## Now we generate the theoretical spectrum of that peptide: "
   ]
  },
  {
   "cell_type": "code",
   "execution_count": 55,
   "id": "9ae26d26",
   "metadata": {},
   "outputs": [],
   "source": [
    "tsg = TheoreticalSpectrumGenerator()\n",
    "theo_spectrum = MSSpectrum()\n",
    "p = tsg.getParameters()\n",
    "p.setValue(\"add_y_ions\", \"true\")\n",
    "p.setValue(\"add_b_ions\", \"true\")              \n",
    "p.setValue(\"add_metainfo\", \"true\")                          \n",
    "tsg.setParameters(p)   \n",
    "\n",
    "peptide = result[30]\n",
    "tsg.getSpectrum(theo_spectrum, peptide, 1, 2)"
   ]
  },
  {
   "cell_type": "markdown",
   "id": "d44d1b69",
   "metadata": {},
   "source": [
    "## Now we can plot the observed and theoretical spectrum as a mirror plot:\n"
   ]
  },
  {
   "cell_type": "code",
   "execution_count": 56,
   "id": "645dcb8b",
   "metadata": {},
   "outputs": [
    {
     "name": "stdout",
     "output_type": "stream",
     "text": [
      "251.31964111328125\n",
      "1785.7156982421875\n"
     ]
    },
    {
     "data": {
      "image/png": "[encoded data removed]",
      "text/plain": [
       "<Figure size 864x576 with 1 Axes>"
      ]
     },
     "metadata": {
      "needs_background": "light"
     },
     "output_type": "display_data"
    }
   ],
   "source": [
    "import numpy as np\n",
    "from matplotlib import pyplot as plt\n",
    "\n",
    "def mirror_plot(obs_mz, obs_int, theo_mz, theo_int, title):\n",
    "  \n",
    "    obs_int = [element / max(obs_int) for element in obs_int] # relative intenstiy\n",
    "    theo_int = [element * -1 for element in theo_int] # invert the intensity for the mirror plot\n",
    "    plt.figure(figsize=(12,8))\n",
    "    plt.bar(obs_mz, obs_int, width = 3.0)\n",
    "    plt.bar(theo_mz, theo_int, width = 3.0)\n",
    "    plt.title(title)\n",
    "    plt.ylabel('intensity')\n",
    "    plt.xlabel('m/z')\n",
    "\n",
    "obs_mz, obs_int = observed_spectrum.get_peaks()\n",
    "\n",
    "# The mass-to-charge of our observed spectrum ranges from 147 - 1000 m/z\n",
    "print(min(obs_mz)) # 147.0557861328125\n",
    "print(max(obs_mz)) # 994.3831176757812\n",
    "\n",
    "# We filter the peaks of the theoretical spectrum to fit the range (to reduce image complexity)\n",
    "theo_mz, theo_int = [], []\n",
    "for mz, intensity in zip(*theo_spectrum.get_peaks()):\n",
    "    if mz >= 200.0 and mz <= 800.0:\n",
    "        theo_mz.append(mz)\n",
    "        theo_int.append(intensity)\n",
    "\n",
    "title = 'Observed vs theoretical spectrum'\n",
    "mirror_plot(obs_mz, obs_int, theo_mz, theo_int, title)"
   ]
  },
  {
   "cell_type": "markdown",
   "id": "126b78e0",
   "metadata": {},
   "source": [
    "## Now we want to find matching peaks between observed and theoretical spectrum. "
   ]
  },
  {
   "cell_type": "code",
   "execution_count": 57,
   "id": "58f6788a",
   "metadata": {},
   "outputs": [],
   "source": [
    "alignment = []\n",
    "spa = SpectrumAlignment()\n",
    "p = spa.getParameters()\n",
    "\n",
    "# use 0.5 Da tolerance (Note: for high-resolution data we could also use ppm by setting the is_relative_tolerance value to true)\n",
    "p.setValue(\"tolerance\", 0.5)\n",
    "p.setValue(\"is_relative_tolerance\", \"false\")\n",
    "spa.setParameters(p)\n",
    "\n",
    "# align both spectra\n",
    "spa.getSpectrumAlignment(alignment, theo_spectrum, observed_spectrum)"
   ]
  },
  {
   "cell_type": "markdown",
   "id": "991f0a9c",
   "metadata": {},
   "source": [
    "## The alignment contains a list of matched peak indices. We can simply inspect matching peaks with: "
   ]
  },
  {
   "cell_type": "code",
   "execution_count": 58,
   "id": "4c2a8b83",
   "metadata": {},
   "outputs": [
    {
     "name": "stdout",
     "output_type": "stream",
     "text": [
      "Number of matched peaks: 14\n",
      "ion\ttheo. m/z\tobserved m/z\n",
      "b5+\t1\t610.254128440871\t610.0940551757812\n",
      "b12++\t2\t662.2979137034711\t662.3988647460938\n",
      "b6+\t1\t723.338192791771\t723.4190673828125\n",
      "b14++\t2\t775.8614099746211\t775.7384643554688\n",
      "y16++\t2\t799.877591538421\t800.3029174804688\n",
      "b7+\t1\t810.370221951271\t810.670654296875\n",
      "b15++\t2\t825.3956171181711\t825.4727172851562\n",
      "y17++\t2\t849.411798681971\t848.9219970703125\n",
      "y18++\t2\t884.930355761721\t885.22607421875\n",
      "b17++\t2\t904.4301887776711\t904.3136596679688\n",
      "b21++\t2\t1098.5357172242711\t1098.787353515625\n",
      "y26++\t2\t1353.130917083721\t1352.732421875\n",
      "b13+\t1\t1422.6569652272715\t1423.0804443359375\n",
      "b28++\t2\t1437.649671695371\t1438.1051025390625\n"
     ]
    }
   ],
   "source": [
    "# Print matching ions and mz from theoretical spectrum\n",
    "print(\"Number of matched peaks: \" + str(len(alignment)))\n",
    "print(\"ion\\ttheo. m/z\\tobserved m/z\")\n",
    "\n",
    "for theo_idx, obs_idx in alignment:\n",
    "    ion_name = theo_spectrum.getStringDataArrays()[0][theo_idx].decode()\n",
    "    ion_charge = theo_spectrum.getIntegerDataArrays()[0][theo_idx]\n",
    "    print(ion_name + \"\\t\" + str(ion_charge) + \"\\t\"\n",
    "      + str(theo_spectrum[theo_idx].getMZ())\n",
    "      + \"\\t\" + str(observed_spectrum[obs_idx].getMZ()))"
   ]
  },
  {
   "cell_type": "markdown",
   "id": "6b21f7d6",
   "metadata": {},
   "source": [
    "## The mirror plot can also be used to visualize the aligned spectrum: "
   ]
  },
  {
   "cell_type": "code",
   "execution_count": 59,
   "id": "bffc6cf2",
   "metadata": {},
   "outputs": [
    {
     "data": {
      "image/png": "[encoded data removed]",
      "text/plain": [
       "<Figure size 864x576 with 1 Axes>"
      ]
     },
     "metadata": {
      "needs_background": "light"
     },
     "output_type": "display_data"
    }
   ],
   "source": [
    "theo_mz, theo_int, obs_mz, obs_int = [], [], [], []\n",
    "for theo_idx, obs_idx in alignment:\n",
    "    theo_mz.append(theo_spectrum[theo_idx].getMZ())\n",
    "    theo_int.append(theo_spectrum[theo_idx].getIntensity())\n",
    "    obs_mz.append(observed_spectrum[obs_idx].getMZ())\n",
    "    obs_int.append(observed_spectrum[obs_idx].getIntensity())\n",
    "\n",
    "title = 'Observed vs theoretical spectrum (aligned)'\n",
    "mirror_plot(obs_mz, obs_int, theo_mz, theo_int, title)"
   ]
  },
  {
   "cell_type": "code",
   "execution_count": null,
   "id": "2d7f6900",
   "metadata": {},
   "outputs": [],
   "source": []
  }
 ],
 "metadata": {
  "kernelspec": {
   "display_name": "Python 3",
   "language": "python",
   "name": "python3"
  },
  "language_info": {
   "codemirror_mode": {
    "name": "ipython",
    "version": 3
   },
   "file_extension": ".py",
   "mimetype": "text/x-python",
   "name": "python",
   "nbconvert_exporter": "python",
   "pygments_lexer": "ipython3",
   "version": "3.8.8"
  }
 },
 "nbformat": 4,
 "nbformat_minor": 5
}
